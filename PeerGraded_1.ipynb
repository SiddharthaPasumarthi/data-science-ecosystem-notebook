{
 "cells": [
  {
   "cell_type": "markdown",
   "id": "e5b9f3e0",
   "metadata": {},
   "source": [
    " Data Science Tools and Ecosystem"
   ]
  },
  {
   "cell_type": "markdown",
   "id": "161d4e6c",
   "metadata": {},
   "source": [
    "## Introduction\n",
    "In this notebook, we summarize the tools, languages, and libraries commonly used in Data Science. We'll also demonstrate some basic arithmetic operations and conversions.\n"
   ]
  },
  {
   "cell_type": "markdown",
   "id": "4d57fbaf",
   "metadata": {},
   "source": [
    "## Languages Used in Data Science\n",
    "Some of the popular languages used by data scientists include:\n",
    "- Python\n",
    "- R\n",
    "- SQL\n",
    "- Julia\n",
    "- Scala\n"
   ]
  },
  {
   "cell_type": "markdown",
   "id": "70e3ad69",
   "metadata": {},
   "source": [
    "## Popular Data Science Libraries\n",
    "Some commonly used libraries in data science are:\n",
    "- Pandas\n",
    "- NumPy\n",
    "- Matplotlib\n",
    "- Scikit-learn\n",
    "- TensorFlow\n",
    "- Keras\n"
   ]
  },
  {
   "cell_type": "markdown",
   "id": "1366400f",
   "metadata": {},
   "source": [
    "## Data Science Tools\n",
    "\n",
    "| Tool             | Category         |\n",
    "|------------------|------------------|\n",
    "| Jupyter Notebook | IDE/Notebook     |\n",
    "| RStudio          | IDE              |\n",
    "| Apache Spark     | Big Data/Cluster |\n",
    "| TensorFlow       | ML Framework     |\n",
    "| Power BI         | Visualization    |\n"
   ]
  },
  {
   "cell_type": "markdown",
   "id": "66b63fd3",
   "metadata": {},
   "source": [
    "## Examples of Evaluating Arithmetic Expressions\n",
    "Below are examples of how to perform arithmetic operations like addition and multiplication using Python.\n"
   ]
  },
  {
   "cell_type": "code",
   "execution_count": 5,
   "id": "b4cf7adc",
   "metadata": {},
   "outputs": [
    {
     "data": {
      "text/plain": [
       "17"
      ]
     },
     "execution_count": 5,
     "metadata": {},
     "output_type": "execute_result"
    }
   ],
   "source": [
    "# This expression multiplies 3 by 4 and adds 5\n",
    "(3 * 4) + 5\n"
   ]
  },
  {
   "cell_type": "code",
   "execution_count": 6,
   "id": "7c781187",
   "metadata": {},
   "outputs": [
    {
     "data": {
      "text/plain": [
       "3.3333333333333335"
      ]
     },
     "execution_count": 6,
     "metadata": {},
     "output_type": "execute_result"
    }
   ],
   "source": [
    "# Convert 200 minutes to hours\n",
    "minutes = 200\n",
    "hours = minutes / 60\n",
    "hours\n"
   ]
  },
  {
   "cell_type": "markdown",
   "id": "01b5482c",
   "metadata": {},
   "source": [
    "## Objectives\n",
    "- List commonly used languages for Data Science\n",
    "- Identify popular libraries and tools\n",
    "- Perform arithmetic operations in Python\n",
    "- Convert time units from minutes to hours\n",
    "- Understand the basics of markdown in Jupyter"
   ]
  },
  {
   "cell_type": "markdown",
   "id": "52c6fbcf",
   "metadata": {},
   "source": [
    "## Author\n",
    "PSS SIDDHARTHA\n"
   ]
  }
 ],
 "metadata": {
  "kernelspec": {
   "display_name": "Python 3",
   "language": "python",
   "name": "python3"
  },
  "language_info": {
   "codemirror_mode": {
    "name": "ipython",
    "version": 3
   },
   "file_extension": ".py",
   "mimetype": "text/x-python",
   "name": "python",
   "nbconvert_exporter": "python",
   "pygments_lexer": "ipython3",
   "version": "3.11.4"
  }
 },
 "nbformat": 4,
 "nbformat_minor": 5
}
